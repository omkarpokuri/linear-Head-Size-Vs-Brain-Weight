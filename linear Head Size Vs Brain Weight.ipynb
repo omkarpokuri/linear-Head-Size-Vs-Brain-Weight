{
 "cells": [
  {
   "cell_type": "code",
   "execution_count": 30,
   "id": "09b7468f",
   "metadata": {},
   "outputs": [],
   "source": [
    "import pandas as pd\n",
    "import numpy as np\n",
    "import matplotlib.pyplot as plt\n",
    "import seaborn as sns\n",
    "from scipy import stats\n",
    "from statsmodels.formula.api import ols\n",
    "from statsmodels.stats.multicomp import pairwise_tukeyhsd\n",
    "import statsmodels.formula.api as smf\n",
    "import statsmodels.api as sm\n",
    "import scipy\n",
    "from statsmodels.stats.outliers_influence import variance_inflation_factor\n",
    "pd.set_option('display.max_column',None)\n",
    "from sklearn.linear_model import LinearRegression\n",
    "from warnings import filterwarnings"
   ]
  },
  {
   "cell_type": "code",
   "execution_count": 31,
   "id": "46729495",
   "metadata": {},
   "outputs": [],
   "source": [
    "df = pd.read_csv(\"headbrain.csv\")"
   ]
  },
  {
   "cell_type": "code",
   "execution_count": 32,
   "id": "b1660a7a",
   "metadata": {},
   "outputs": [
    {
     "data": {
      "text/html": [
       "<div>\n",
       "<style scoped>\n",
       "    .dataframe tbody tr th:only-of-type {\n",
       "        vertical-align: middle;\n",
       "    }\n",
       "\n",
       "    .dataframe tbody tr th {\n",
       "        vertical-align: top;\n",
       "    }\n",
       "\n",
       "    .dataframe thead th {\n",
       "        text-align: right;\n",
       "    }\n",
       "</style>\n",
       "<table border=\"1\" class=\"dataframe\">\n",
       "  <thead>\n",
       "    <tr style=\"text-align: right;\">\n",
       "      <th></th>\n",
       "      <th>Gender</th>\n",
       "      <th>Age Range</th>\n",
       "      <th>Head Size(cm^3)</th>\n",
       "      <th>BrainWeight</th>\n",
       "    </tr>\n",
       "  </thead>\n",
       "  <tbody>\n",
       "    <tr>\n",
       "      <th>0</th>\n",
       "      <td>1</td>\n",
       "      <td>1</td>\n",
       "      <td>4512</td>\n",
       "      <td>1530</td>\n",
       "    </tr>\n",
       "    <tr>\n",
       "      <th>1</th>\n",
       "      <td>1</td>\n",
       "      <td>1</td>\n",
       "      <td>3738</td>\n",
       "      <td>1297</td>\n",
       "    </tr>\n",
       "    <tr>\n",
       "      <th>2</th>\n",
       "      <td>1</td>\n",
       "      <td>1</td>\n",
       "      <td>4261</td>\n",
       "      <td>1335</td>\n",
       "    </tr>\n",
       "    <tr>\n",
       "      <th>3</th>\n",
       "      <td>1</td>\n",
       "      <td>1</td>\n",
       "      <td>3777</td>\n",
       "      <td>1282</td>\n",
       "    </tr>\n",
       "    <tr>\n",
       "      <th>4</th>\n",
       "      <td>1</td>\n",
       "      <td>1</td>\n",
       "      <td>4177</td>\n",
       "      <td>1590</td>\n",
       "    </tr>\n",
       "  </tbody>\n",
       "</table>\n",
       "</div>"
      ],
      "text/plain": [
       "   Gender  Age Range  Head Size(cm^3)  BrainWeight\n",
       "0       1          1             4512         1530\n",
       "1       1          1             3738         1297\n",
       "2       1          1             4261         1335\n",
       "3       1          1             3777         1282\n",
       "4       1          1             4177         1590"
      ]
     },
     "execution_count": 32,
     "metadata": {},
     "output_type": "execute_result"
    }
   ],
   "source": [
    "df.head()"
   ]
  },
  {
   "cell_type": "code",
   "execution_count": 33,
   "id": "bf80ca51",
   "metadata": {},
   "outputs": [
    {
     "data": {
      "text/plain": [
       "(237, 4)"
      ]
     },
     "execution_count": 33,
     "metadata": {},
     "output_type": "execute_result"
    }
   ],
   "source": [
    "df.shape"
   ]
  },
  {
   "cell_type": "code",
   "execution_count": 34,
   "id": "566faa6c",
   "metadata": {},
   "outputs": [],
   "source": [
    "df = pd.DataFrame(df)"
   ]
  },
  {
   "cell_type": "code",
   "execution_count": 35,
   "id": "d692c069",
   "metadata": {},
   "outputs": [
    {
     "name": "stdout",
     "output_type": "stream",
     "text": [
      "<class 'pandas.core.frame.DataFrame'>\n",
      "RangeIndex: 237 entries, 0 to 236\n",
      "Data columns (total 4 columns):\n",
      " #   Column           Non-Null Count  Dtype\n",
      "---  ------           --------------  -----\n",
      " 0   Gender           237 non-null    int64\n",
      " 1   Age Range        237 non-null    int64\n",
      " 2   Head Size(cm^3)  237 non-null    int64\n",
      " 3   BrainWeight      237 non-null    int64\n",
      "dtypes: int64(4)\n",
      "memory usage: 7.5 KB\n"
     ]
    }
   ],
   "source": [
    "df.info()"
   ]
  },
  {
   "cell_type": "code",
   "execution_count": 36,
   "id": "ccb154a3",
   "metadata": {},
   "outputs": [
    {
     "data": {
      "text/plain": [
       "Gender             0\n",
       "Age Range          0\n",
       "Head Size(cm^3)    0\n",
       "BrainWeight        0\n",
       "dtype: int64"
      ]
     },
     "execution_count": 36,
     "metadata": {},
     "output_type": "execute_result"
    }
   ],
   "source": [
    "df.isnull().sum()"
   ]
  },
  {
   "cell_type": "markdown",
   "id": "d5844b6d",
   "metadata": {},
   "source": [
    "# Target Variable : Brain Weight"
   ]
  },
  {
   "cell_type": "code",
   "execution_count": 37,
   "id": "113b8a31",
   "metadata": {},
   "outputs": [
    {
     "name": "stderr",
     "output_type": "stream",
     "text": [
      "C:\\Users\\Omkar\\anaconda3\\lib\\site-packages\\seaborn\\distributions.py:2619: FutureWarning: `distplot` is a deprecated function and will be removed in a future version. Please adapt your code to use either `displot` (a figure-level function with similar flexibility) or `histplot` (an axes-level function for histograms).\n",
      "  warnings.warn(msg, FutureWarning)\n"
     ]
    },
    {
     "data": {
      "text/plain": [
       "Text(0.5, 1.0, 'distplot of Brain Weight')"
      ]
     },
     "execution_count": 37,
     "metadata": {},
     "output_type": "execute_result"
    },
    {
     "data": {
      "image/png": "[encoded data removed]",
      "text/plain": [
       "<Figure size 432x288 with 1 Axes>"
      ]
     },
     "metadata": {
      "needs_background": "light"
     },
     "output_type": "display_data"
    }
   ],
   "source": [
    "sns.distplot(df.BrainWeight)\n",
    "plt.title('distplot of Brain Weight')"
   ]
  },
  {
   "cell_type": "code",
   "execution_count": 38,
   "id": "39cabf27",
   "metadata": {},
   "outputs": [
    {
     "data": {
      "text/plain": [
       "count     237.000000\n",
       "mean     1282.873418\n",
       "std       120.340446\n",
       "min       955.000000\n",
       "25%      1207.000000\n",
       "50%      1280.000000\n",
       "75%      1350.000000\n",
       "max      1635.000000\n",
       "Name: BrainWeight, dtype: float64"
      ]
     },
     "execution_count": 38,
     "metadata": {},
     "output_type": "execute_result"
    }
   ],
   "source": [
    "df.BrainWeight.describe()"
   ]
  },
  {
   "cell_type": "code",
   "execution_count": 39,
   "id": "e66094c9",
   "metadata": {},
   "outputs": [
    {
     "name": "stderr",
     "output_type": "stream",
     "text": [
      "C:\\Users\\Omkar\\anaconda3\\lib\\site-packages\\seaborn\\_decorators.py:36: FutureWarning: Pass the following variable as a keyword arg: x. From version 0.12, the only valid positional argument will be `data`, and passing other arguments without an explicit keyword will result in an error or misinterpretation.\n",
      "  warnings.warn(\n"
     ]
    },
    {
     "data": {
      "text/plain": [
       "Text(0.5, 1.0, 'Boxplot of Brainweight')"
      ]
     },
     "execution_count": 39,
     "metadata": {},
     "output_type": "execute_result"
    },
    {
     "data": {
      "image/png": "[encoded data removed]",
      "text/plain": [
       "<Figure size 432x288 with 1 Axes>"
      ]
     },
     "metadata": {
      "needs_background": "light"
     },
     "output_type": "display_data"
    }
   ],
   "source": [
    "sns.boxplot(df.BrainWeight)\n",
    "plt.title('Boxplot of Brainweight')"
   ]
  },
  {
   "cell_type": "code",
   "execution_count": 40,
   "id": "8e391bec",
   "metadata": {},
   "outputs": [
    {
     "data": {
      "text/plain": [
       "1282.873417721519"
      ]
     },
     "execution_count": 40,
     "metadata": {},
     "output_type": "execute_result"
    }
   ],
   "source": [
    "df.BrainWeight.mean()"
   ]
  },
  {
   "cell_type": "code",
   "execution_count": 41,
   "id": "cadb9eba",
   "metadata": {},
   "outputs": [
    {
     "data": {
      "text/plain": [
       "1280.0"
      ]
     },
     "execution_count": 41,
     "metadata": {},
     "output_type": "execute_result"
    }
   ],
   "source": [
    "df.BrainWeight.median()"
   ]
  },
  {
   "cell_type": "code",
   "execution_count": 42,
   "id": "42ba9920",
   "metadata": {},
   "outputs": [
    {
     "data": {
      "text/plain": [
       "955"
      ]
     },
     "execution_count": 42,
     "metadata": {},
     "output_type": "execute_result"
    }
   ],
   "source": [
    "df.BrainWeight.min()"
   ]
  },
  {
   "cell_type": "code",
   "execution_count": 43,
   "id": "32f63f93",
   "metadata": {},
   "outputs": [
    {
     "data": {
      "text/plain": [
       "1635"
      ]
     },
     "execution_count": 43,
     "metadata": {},
     "output_type": "execute_result"
    }
   ],
   "source": [
    "df.BrainWeight.max()"
   ]
  },
  {
   "cell_type": "markdown",
   "id": "c5c48238",
   "metadata": {},
   "source": [
    "# Removing outliers"
   ]
  },
  {
   "cell_type": "code",
   "execution_count": 47,
   "id": "10e99a88",
   "metadata": {},
   "outputs": [
    {
     "data": {
      "text/plain": [
       "143.0"
      ]
     },
     "execution_count": 47,
     "metadata": {},
     "output_type": "execute_result"
    }
   ],
   "source": [
    "Q1 = df.BrainWeight.quantile(.25)\n",
    "Q3 = df.BrainWeight.quantile(.75)\n",
    "\n",
    "IQR = Q3 - Q1\n",
    "IQR"
   ]
  },
  {
   "cell_type": "code",
   "execution_count": 52,
   "id": "44af25e1",
   "metadata": {},
   "outputs": [
    {
     "data": {
      "text/plain": [
       "4      1590\n",
       "24     1635\n",
       "43     1570\n",
       "102    1588\n",
       "109    1620\n",
       "209     955\n",
       "Name: BrainWeight, dtype: int64"
      ]
     },
     "execution_count": 52,
     "metadata": {},
     "output_type": "execute_result"
    }
   ],
   "source": [
    "upper_end = Q3 + (1.5 * IQR)\n",
    "lower_end = Q1 - (1.5 * IQR)\n",
    "outliers = df.BrainWeight[(df.BrainWeight < lower_end) | (df.BrainWeight > upper_end)]\n",
    "outliers"
   ]
  },
  {
   "cell_type": "code",
   "execution_count": 53,
   "id": "a16af836",
   "metadata": {},
   "outputs": [
    {
     "ename": "NameError",
     "evalue": "name 'remove_outlier' is not defined",
     "output_type": "error",
     "traceback": [
      "\u001b[1;31m---------------------------------------------------------------------------\u001b[0m",
      "\u001b[1;31mNameError\u001b[0m                                 Traceback (most recent call last)",
      "\u001b[1;32m~\\AppData\\Local\\Temp/ipykernel_11556/558030588.py\u001b[0m in \u001b[0;36m<module>\u001b[1;34m\u001b[0m\n\u001b[1;32m----> 1\u001b[1;33m \u001b[0mremove_outlier\u001b[0m\u001b[1;33m(\u001b[0m\u001b[0mdf\u001b[0m\u001b[1;33m)\u001b[0m\u001b[1;33m\u001b[0m\u001b[1;33m\u001b[0m\u001b[0m\n\u001b[0m",
      "\u001b[1;31mNameError\u001b[0m: name 'remove_outlier' is not defined"
     ]
    }
   ],
   "source": [
    "remove_outlier(df)"
   ]
  },
  {
   "cell_type": "code",
   "execution_count": 54,
   "id": "5d30ef34",
   "metadata": {},
   "outputs": [
    {
     "name": "stderr",
     "output_type": "stream",
     "text": [
      "C:\\Users\\Omkar\\anaconda3\\lib\\site-packages\\seaborn\\_decorators.py:36: FutureWarning: Pass the following variable as a keyword arg: x. From version 0.12, the only valid positional argument will be `data`, and passing other arguments without an explicit keyword will result in an error or misinterpretation.\n",
      "  warnings.warn(\n"
     ]
    },
    {
     "data": {
      "text/plain": [
       "Text(0.5, 1.0, 'Boxplot of Brainweight')"
      ]
     },
     "execution_count": 54,
     "metadata": {},
     "output_type": "execute_result"
    },
    {
     "data": {
      "image/png": "[encoded data removed]",
      "text/plain": [
       "<Figure size 432x288 with 1 Axes>"
      ]
     },
     "metadata": {
      "needs_background": "light"
     },
     "output_type": "display_data"
    }
   ],
   "source": [
    "sns.boxplot(df.BrainWeight)\n",
    "plt.title('Boxplot of Brainweight')"
   ]
  },
  {
   "cell_type": "code",
   "execution_count": 55,
   "id": "69e951d3",
   "metadata": {},
   "outputs": [
    {
     "data": {
      "text/plain": [
       "237"
      ]
     },
     "execution_count": 55,
     "metadata": {},
     "output_type": "execute_result"
    }
   ],
   "source": [
    "len(df.BrainWeight)"
   ]
  },
  {
   "cell_type": "code",
   "execution_count": 56,
   "id": "dbdc933b",
   "metadata": {},
   "outputs": [
    {
     "data": {
      "text/plain": [
       "count     237.000000\n",
       "mean     1282.873418\n",
       "std       120.340446\n",
       "min       955.000000\n",
       "25%      1207.000000\n",
       "50%      1280.000000\n",
       "75%      1350.000000\n",
       "max      1635.000000\n",
       "Name: BrainWeight, dtype: float64"
      ]
     },
     "execution_count": 56,
     "metadata": {},
     "output_type": "execute_result"
    }
   ],
   "source": [
    "df.BrainWeight.describe()"
   ]
  },
  {
   "cell_type": "code",
   "execution_count": 58,
   "id": "11349a33",
   "metadata": {},
   "outputs": [
    {
     "name": "stdout",
     "output_type": "stream",
     "text": [
      "Checking for any null values:\n",
      "\n",
      "Gender             False\n",
      "Age Range          False\n",
      "Head Size(cm^3)    False\n",
      "BrainWeight        False\n",
      "dtype: bool\n"
     ]
    }
   ],
   "source": [
    "print(\"Checking for any null values:\\n\")\n",
    "print(df.isnull().any())"
   ]
  },
  {
   "cell_type": "code",
   "execution_count": 59,
   "id": "da344a13",
   "metadata": {},
   "outputs": [
    {
     "name": "stdout",
     "output_type": "stream",
     "text": [
      "Checking for unique values in each column:\n",
      "\n",
      "Gender               2\n",
      "Age Range            2\n",
      "Head Size(cm^3)    221\n",
      "BrainWeight        146\n",
      "dtype: int64\n"
     ]
    }
   ],
   "source": [
    "print(\"Checking for unique values in each column:\\n\")\n",
    "print(df.nunique())"
   ]
  },
  {
   "cell_type": "code",
   "execution_count": 61,
   "id": "8056296d",
   "metadata": {},
   "outputs": [
    {
     "data": {
      "image/png": "[encoded data removed]",
      "text/plain": [
       "<Figure size 720x720 with 1 Axes>"
      ]
     },
     "metadata": {
      "needs_background": "light"
     },
     "output_type": "display_data"
    }
   ],
   "source": [
    "plt.figure(figsize=(10,10))\n",
    "sns.scatterplot(y='BrainWeight',x='Head Size(cm^3)',data=df)\n",
    "plt.show()"
   ]
  },
  {
   "cell_type": "code",
   "execution_count": 63,
   "id": "8fb171c1",
   "metadata": {},
   "outputs": [
    {
     "data": {
      "text/plain": [
       "((237,), (237,))"
      ]
     },
     "execution_count": 63,
     "metadata": {},
     "output_type": "execute_result"
    }
   ],
   "source": [
    "df  = df.values\n",
    "\n",
    "X = df[:,2]\n",
    "Y = df[:,3]\n",
    "\n",
    "X.shape,Y.shape"
   ]
  },
  {
   "cell_type": "code",
   "execution_count": 64,
   "id": "37381c16",
   "metadata": {},
   "outputs": [],
   "source": [
    "def Linear_Regression(X,Y):\n",
    "    mean_x = np.mean(X)\n",
    "    mean_y = np.mean(Y)\n",
    "\n",
    "    n = len(X)\n",
    "    numerator= 0\n",
    "    denominator=0\n",
    "    for i in range(n):\n",
    "        numerator   += ((X[i] - mean_x) * (Y[i] - mean_y))\n",
    "        denominator += ((X[i] - mean_x) ** 2)\n",
    "\n",
    "    m = numerator/ denominator\n",
    "    c = mean_y - m * mean_x\n",
    "    \n",
    "    return(m,c)\n",
    "def predict(X,m,c):\n",
    "    pred_y=[]\n",
    "    for i in range(len(X)):\n",
    "        pred_y.append(c + m * X[i])\n",
    "\n",
    "    return(pred_y)"
   ]
  },
  {
   "cell_type": "code",
   "execution_count": 65,
   "id": "efe7eeac",
   "metadata": {},
   "outputs": [],
   "source": [
    "def r2score(y_obs,y_pred):\n",
    "    yhat = np.mean(y_obs)\n",
    "    \n",
    "    ss_res = 0.0\n",
    "    ss_tot = 0.0\n",
    "    \n",
    "    for i in range(len(y_obs)):\n",
    "        ss_tot += (y_obs[i]-yhat)**2\n",
    "        ss_res += (y_obs[i]-y_pred[i])**2\n",
    "        \n",
    "    r2 = 1 - (ss_res/ss_tot)\n",
    "\n",
    "    return r2"
   ]
  },
  {
   "cell_type": "code",
   "execution_count": 68,
   "id": "c959ee8b",
   "metadata": {},
   "outputs": [],
   "source": [
    "from sklearn.model_selection import train_test_split"
   ]
  },
  {
   "cell_type": "code",
   "execution_count": 69,
   "id": "9fbd99d6",
   "metadata": {},
   "outputs": [
    {
     "name": "stdout",
     "output_type": "stream",
     "text": [
      "slope =  0.26189100385866426\n",
      "intercept =  331.2228421304119\n",
      "R-squared : 0.6715300229289938\n"
     ]
    },
    {
     "data": {
      "image/png": "[encoded data removed]",
      "text/plain": [
       "<Figure size 432x288 with 1 Axes>"
      ]
     },
     "metadata": {
      "needs_background": "light"
     },
     "output_type": "display_data"
    }
   ],
   "source": [
    "plt.title(\"Linear Regression Plot of HeadSize Vs Brain Weight\")\n",
    "\n",
    "X_train,X_test,y_train,y_test = train_test_split(X,Y,test_size=0.3)\n",
    "\n",
    "m,c = Linear_Regression(X_train,y_train)\n",
    "print(\"slope = \", m)\n",
    "print('intercept = ',c)\n",
    "y_pred =  predict(X_test,m,c)\n",
    "\n",
    "print(\"R-squared :\",r2score(y_test,y_pred))\n",
    "\n",
    "plt.plot(X_test,y_pred,color='red',label='Linear Regression')\n",
    "plt.scatter(X_train,y_train,c='b',label='Scatter Plot')\n",
    "plt.xlabel(\"Head Size\")\n",
    "plt.ylabel(\"Brain Weight\")\n",
    "plt.legend()\n",
    "plt.show()"
   ]
  },
  {
   "cell_type": "code",
   "execution_count": 73,
   "id": "56a7a5e1",
   "metadata": {},
   "outputs": [],
   "source": [
    "from sklearn.metrics import r2_score"
   ]
  },
  {
   "cell_type": "code",
   "execution_count": 74,
   "id": "7502f179",
   "metadata": {},
   "outputs": [
    {
     "name": "stdout",
     "output_type": "stream",
     "text": [
      "R-squared : 0.5882350753538284\n"
     ]
    }
   ],
   "source": [
    "X = X.reshape(len(X),1)\n",
    "\n",
    "X_train,X_test,y_train,y_test = train_test_split(X,Y,test_size=0.3)\n",
    "\n",
    "reg = LinearRegression()\n",
    "reg.fit(X_train,y_train)\n",
    "\n",
    "y_predictions = reg.predict(X_test)\n",
    "\n",
    "print(\"R-squared :\",r2_score(y_test, y_predictions))"
   ]
  }
 ],
 "metadata": {
  "kernelspec": {
   "display_name": "Python 3 (ipykernel)",
   "language": "python",
   "name": "python3"
  },
  "language_info": {
   "codemirror_mode": {
    "name": "ipython",
    "version": 3
   },
   "file_extension": ".py",
   "mimetype": "text/x-python",
   "name": "python",
   "nbconvert_exporter": "python",
   "pygments_lexer": "ipython3",
   "version": "3.9.15"
  }
 },
 "nbformat": 4,
 "nbformat_minor": 5
}
